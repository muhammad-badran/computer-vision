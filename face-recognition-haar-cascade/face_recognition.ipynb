{
 "cells": [
  {
   "cell_type": "code",
   "execution_count": 1,
   "id": "4b38476f-5952-4925-a719-4e97ada46ef1",
   "metadata": {},
   "outputs": [],
   "source": [
    "import cv2"
   ]
  },
  {
   "cell_type": "code",
   "execution_count": 21,
   "id": "44622986-5a1e-407b-b8bc-73fd2a5fd91f",
   "metadata": {},
   "outputs": [],
   "source": [
    "face_cascade = cv2.CascadeClassifier('haarcascade_frontalface_default.xml')\n",
    "eye_cascade = cv2.CascadeClassifier('haarcascade_eye.xml')\n",
    "smile_cascade = cv2.CascadeClassifier('haarcascade_smile.xml')"
   ]
  },
  {
   "cell_type": "code",
   "execution_count": 26,
   "id": "4d46469f-b18e-42f8-9742-c286ddf586d5",
   "metadata": {},
   "outputs": [],
   "source": [
    "# cascade is series of filters that detect objects\n",
    "def detect(grey, frame):\n",
    "  faces = face_cascade.detectMultiScale(grey, 1.3, 5) # image, scale_factor, min_neighbors\n",
    "  for(x, y, w, h) in faces:\n",
    "    cv2.rectangle(frame, (x, y,), (x+w, y+h), (255, 0, 0), 2) # frame, coordinate, lower-right corner, color, thickness\n",
    "    roi_grey = grey[y:y+h, x:x+w]   # region of interest in grey and colored (original) images\n",
    "    roi_color = frame[y:y+h, x:x+w]\n",
    "    eyes = eye_cascade.detectMultiScale(roi_grey, 1.3, 22)\n",
    "    for(ex, ey, ew, eh) in eyes:\n",
    "        cv2.rectangle(roi_color, (ex, ey,), (ex+ew, ey+eh), (0, 255, 0), 2)\n",
    "    smiles = smile_cascade.detectMultiScale(roi_grey, 1.7, 22)\n",
    "    for(sx, sy, sw, sh) in smiles:\n",
    "        cv2.rectangle(roi_color, (sx, sy,), (sx+sw, sy+sh), (0, 0, 255), 2)\n",
    "  return frame"
   ]
  },
  {
   "cell_type": "code",
   "execution_count": 25,
   "id": "e8c01e67-84bd-4e64-9bb3-a41eb3b79985",
   "metadata": {},
   "outputs": [],
   "source": [
    "video_capture = cv2.VideoCapture(0)\n",
    "while(True):\n",
    "  _, frame = video_capture.read()\n",
    "  grey = cv2.cvtColor(frame, cv2.COLOR_RGB2GRAY)\n",
    "  canvas = detect(grey, frame)\n",
    "  cv2.imshow('Video', canvas)\n",
    "  if(cv2.waitKey(1) & 0xFF == ord('q')):\n",
    "    break;\n",
    "video_capture.release()\n",
    "cv2.destroyAllWindows()"
   ]
  }
 ],
 "metadata": {
  "kernelspec": {
   "display_name": "Python 3 (ipykernel)",
   "language": "python",
   "name": "python3"
  },
  "language_info": {
   "codemirror_mode": {
    "name": "ipython",
    "version": 3
   },
   "file_extension": ".py",
   "mimetype": "text/x-python",
   "name": "python",
   "nbconvert_exporter": "python",
   "pygments_lexer": "ipython3",
   "version": "3.10.18"
  }
 },
 "nbformat": 4,
 "nbformat_minor": 5
}
