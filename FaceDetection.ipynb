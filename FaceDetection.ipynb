{
  "nbformat": 4,
  "nbformat_minor": 0,
  "metadata": {
    "colab": {
      "provenance": [],
      "authorship_tag": "ABX9TyNH/CAS8JgYtRxNr6qi9R+K"
    },
    "kernelspec": {
      "name": "python3",
      "display_name": "Python 3"
    },
    "language_info": {
      "name": "python"
    }
  },
  "cells": [
    {
      "cell_type": "markdown",
      "source": [
        "# 1. Setup and Getting Data"
      ],
      "metadata": {
        "id": "IKDtPl2GvCr5"
      }
    },
    {
      "cell_type": "markdown",
      "source": [
        "### 1.1 Install Detpendencies and Setup"
      ],
      "metadata": {
        "id": "lsJsYnzLvIdQ"
      }
    },
    {
      "cell_type": "code",
      "execution_count": null,
      "metadata": {
        "colab": {
          "base_uri": "https://localhost:8080/"
        },
        "collapsed": true,
        "id": "JwA6qwSrqtJD",
        "outputId": "a873a9d9-1fcc-4a32-a975-ef227305dda6"
      },
      "outputs": [
        {
          "output_type": "stream",
          "name": "stdout",
          "text": [
            "Collecting labelme\n",
            "  Using cached labelme-5.5.0.tar.gz (1.4 MB)\n",
            "  Preparing metadata (setup.py) ... \u001b[?25l\u001b[?25hdone\n",
            "Requirement already satisfied: tensorflow in /usr/local/lib/python3.10/dist-packages (2.17.1)\n",
            "Requirement already satisfied: opencv-python in /usr/local/lib/python3.10/dist-packages (4.10.0.84)\n",
            "Requirement already satisfied: matplotlib in /usr/local/lib/python3.10/dist-packages (3.8.0)\n",
            "Requirement already satisfied: albumentations in /usr/local/lib/python3.10/dist-packages (1.4.20)\n",
            "Requirement already satisfied: gdown in /usr/local/lib/python3.10/dist-packages (from labelme) (5.2.0)\n",
            "Collecting imgviz>=1.7.5 (from labelme)\n",
            "  Downloading imgviz-1.7.6-py3-none-any.whl.metadata (6.2 kB)\n",
            "Requirement already satisfied: natsort>=7.1.0 in /usr/local/lib/python3.10/dist-packages (from labelme) (8.4.0)\n",
            "Requirement already satisfied: numpy in /usr/local/lib/python3.10/dist-packages (from labelme) (1.26.4)\n",
            "Collecting onnxruntime!=1.16.0,>=1.14.1 (from labelme)\n",
            "  Downloading onnxruntime-1.20.1-cp310-cp310-manylinux_2_27_x86_64.manylinux_2_28_x86_64.whl.metadata (4.5 kB)\n",
            "Requirement already satisfied: Pillow>=2.8 in /usr/local/lib/python3.10/dist-packages (from labelme) (11.0.0)\n",
            "Requirement already satisfied: PyYAML in /usr/local/lib/python3.10/dist-packages (from labelme) (6.0.2)\n",
            "Collecting qtpy!=1.11.2 (from labelme)\n",
            "  Downloading QtPy-2.4.2-py3-none-any.whl.metadata (12 kB)\n",
            "Requirement already satisfied: scikit-image in /usr/local/lib/python3.10/dist-packages (from labelme) (0.24.0)\n",
            "Requirement already satisfied: termcolor in /usr/local/lib/python3.10/dist-packages (from labelme) (2.5.0)\n",
            "Collecting PyQt5!=5.15.3,!=5.15.4 (from labelme)\n",
            "  Downloading PyQt5-5.15.11-cp38-abi3-manylinux_2_17_x86_64.whl.metadata (2.1 kB)\n",
            "Requirement already satisfied: absl-py>=1.0.0 in /usr/local/lib/python3.10/dist-packages (from tensorflow) (1.4.0)\n",
            "Requirement already satisfied: astunparse>=1.6.0 in /usr/local/lib/python3.10/dist-packages (from tensorflow) (1.6.3)\n",
            "Requirement already satisfied: flatbuffers>=24.3.25 in /usr/local/lib/python3.10/dist-packages (from tensorflow) (24.3.25)\n",
            "Requirement already satisfied: gast!=0.5.0,!=0.5.1,!=0.5.2,>=0.2.1 in /usr/local/lib/python3.10/dist-packages (from tensorflow) (0.6.0)\n",
            "Requirement already satisfied: google-pasta>=0.1.1 in /usr/local/lib/python3.10/dist-packages (from tensorflow) (0.2.0)\n",
            "Requirement already satisfied: h5py>=3.10.0 in /usr/local/lib/python3.10/dist-packages (from tensorflow) (3.12.1)\n",
            "Requirement already satisfied: libclang>=13.0.0 in /usr/local/lib/python3.10/dist-packages (from tensorflow) (18.1.1)\n",
            "Requirement already satisfied: ml-dtypes<0.5.0,>=0.3.1 in /usr/local/lib/python3.10/dist-packages (from tensorflow) (0.4.1)\n",
            "Requirement already satisfied: opt-einsum>=2.3.2 in /usr/local/lib/python3.10/dist-packages (from tensorflow) (3.4.0)\n",
            "Requirement already satisfied: packaging in /usr/local/lib/python3.10/dist-packages (from tensorflow) (24.2)\n",
            "Requirement already satisfied: protobuf!=4.21.0,!=4.21.1,!=4.21.2,!=4.21.3,!=4.21.4,!=4.21.5,<5.0.0dev,>=3.20.3 in /usr/local/lib/python3.10/dist-packages (from tensorflow) (4.25.5)\n",
            "Requirement already satisfied: requests<3,>=2.21.0 in /usr/local/lib/python3.10/dist-packages (from tensorflow) (2.32.3)\n",
            "Requirement already satisfied: setuptools in /usr/local/lib/python3.10/dist-packages (from tensorflow) (75.1.0)\n",
            "Requirement already satisfied: six>=1.12.0 in /usr/local/lib/python3.10/dist-packages (from tensorflow) (1.16.0)\n",
            "Requirement already satisfied: typing-extensions>=3.6.6 in /usr/local/lib/python3.10/dist-packages (from tensorflow) (4.12.2)\n",
            "Requirement already satisfied: wrapt>=1.11.0 in /usr/local/lib/python3.10/dist-packages (from tensorflow) (1.17.0)\n",
            "Requirement already satisfied: grpcio<2.0,>=1.24.3 in /usr/local/lib/python3.10/dist-packages (from tensorflow) (1.68.1)\n",
            "Requirement already satisfied: tensorboard<2.18,>=2.17 in /usr/local/lib/python3.10/dist-packages (from tensorflow) (2.17.1)\n",
            "Requirement already satisfied: keras>=3.2.0 in /usr/local/lib/python3.10/dist-packages (from tensorflow) (3.5.0)\n",
            "Requirement already satisfied: tensorflow-io-gcs-filesystem>=0.23.1 in /usr/local/lib/python3.10/dist-packages (from tensorflow) (0.37.1)\n",
            "Requirement already satisfied: contourpy>=1.0.1 in /usr/local/lib/python3.10/dist-packages (from matplotlib) (1.3.1)\n",
            "Requirement already satisfied: cycler>=0.10 in /usr/local/lib/python3.10/dist-packages (from matplotlib) (0.12.1)\n",
            "Requirement already satisfied: fonttools>=4.22.0 in /usr/local/lib/python3.10/dist-packages (from matplotlib) (4.55.1)\n",
            "Requirement already satisfied: kiwisolver>=1.0.1 in /usr/local/lib/python3.10/dist-packages (from matplotlib) (1.4.7)\n",
            "Requirement already satisfied: pyparsing>=2.3.1 in /usr/local/lib/python3.10/dist-packages (from matplotlib) (3.2.0)\n",
            "Requirement already satisfied: python-dateutil>=2.7 in /usr/local/lib/python3.10/dist-packages (from matplotlib) (2.8.2)\n",
            "Requirement already satisfied: scipy>=1.10.0 in /usr/local/lib/python3.10/dist-packages (from albumentations) (1.13.1)\n",
            "Requirement already satisfied: pydantic>=2.7.0 in /usr/local/lib/python3.10/dist-packages (from albumentations) (2.10.3)\n",
            "Requirement already satisfied: albucore==0.0.19 in /usr/local/lib/python3.10/dist-packages (from albumentations) (0.0.19)\n",
            "Requirement already satisfied: eval-type-backport in /usr/local/lib/python3.10/dist-packages (from albumentations) (0.2.0)\n",
            "Requirement already satisfied: opencv-python-headless>=4.9.0.80 in /usr/local/lib/python3.10/dist-packages (from albumentations) (4.10.0.84)\n",
            "Requirement already satisfied: stringzilla>=3.10.4 in /usr/local/lib/python3.10/dist-packages (from albucore==0.0.19->albumentations) (3.11.0)\n",
            "Requirement already satisfied: wheel<1.0,>=0.23.0 in /usr/local/lib/python3.10/dist-packages (from astunparse>=1.6.0->tensorflow) (0.45.1)\n",
            "Requirement already satisfied: rich in /usr/local/lib/python3.10/dist-packages (from keras>=3.2.0->tensorflow) (13.9.4)\n",
            "Requirement already satisfied: namex in /usr/local/lib/python3.10/dist-packages (from keras>=3.2.0->tensorflow) (0.0.8)\n",
            "Requirement already satisfied: optree in /usr/local/lib/python3.10/dist-packages (from keras>=3.2.0->tensorflow) (0.13.1)\n",
            "Collecting coloredlogs (from onnxruntime!=1.16.0,>=1.14.1->labelme)\n",
            "  Downloading coloredlogs-15.0.1-py2.py3-none-any.whl.metadata (12 kB)\n",
            "Requirement already satisfied: sympy in /usr/local/lib/python3.10/dist-packages (from onnxruntime!=1.16.0,>=1.14.1->labelme) (1.13.1)\n",
            "Requirement already satisfied: annotated-types>=0.6.0 in /usr/local/lib/python3.10/dist-packages (from pydantic>=2.7.0->albumentations) (0.7.0)\n",
            "Requirement already satisfied: pydantic-core==2.27.1 in /usr/local/lib/python3.10/dist-packages (from pydantic>=2.7.0->albumentations) (2.27.1)\n",
            "Collecting PyQt5-sip<13,>=12.15 (from PyQt5!=5.15.3,!=5.15.4->labelme)\n",
            "  Downloading PyQt5_sip-12.16.0-cp310-cp310-manylinux_2_5_x86_64.manylinux1_x86_64.whl.metadata (421 bytes)\n",
            "Collecting PyQt5-Qt5<5.16.0,>=5.15.2 (from PyQt5!=5.15.3,!=5.15.4->labelme)\n",
            "  Downloading PyQt5_Qt5-5.15.15-py3-none-manylinux2014_x86_64.whl.metadata (536 bytes)\n",
            "Requirement already satisfied: charset-normalizer<4,>=2 in /usr/local/lib/python3.10/dist-packages (from requests<3,>=2.21.0->tensorflow) (3.4.0)\n",
            "Requirement already satisfied: idna<4,>=2.5 in /usr/local/lib/python3.10/dist-packages (from requests<3,>=2.21.0->tensorflow) (3.10)\n",
            "Requirement already satisfied: urllib3<3,>=1.21.1 in /usr/local/lib/python3.10/dist-packages (from requests<3,>=2.21.0->tensorflow) (2.2.3)\n",
            "Requirement already satisfied: certifi>=2017.4.17 in /usr/local/lib/python3.10/dist-packages (from requests<3,>=2.21.0->tensorflow) (2024.8.30)\n",
            "Requirement already satisfied: markdown>=2.6.8 in /usr/local/lib/python3.10/dist-packages (from tensorboard<2.18,>=2.17->tensorflow) (3.7)\n",
            "Requirement already satisfied: tensorboard-data-server<0.8.0,>=0.7.0 in /usr/local/lib/python3.10/dist-packages (from tensorboard<2.18,>=2.17->tensorflow) (0.7.2)\n",
            "Requirement already satisfied: werkzeug>=1.0.1 in /usr/local/lib/python3.10/dist-packages (from tensorboard<2.18,>=2.17->tensorflow) (3.1.3)\n",
            "Requirement already satisfied: beautifulsoup4 in /usr/local/lib/python3.10/dist-packages (from gdown->labelme) (4.12.3)\n",
            "Requirement already satisfied: filelock in /usr/local/lib/python3.10/dist-packages (from gdown->labelme) (3.16.1)\n",
            "Requirement already satisfied: tqdm in /usr/local/lib/python3.10/dist-packages (from gdown->labelme) (4.66.6)\n",
            "Requirement already satisfied: networkx>=2.8 in /usr/local/lib/python3.10/dist-packages (from scikit-image->labelme) (3.4.2)\n",
            "Requirement already satisfied: imageio>=2.33 in /usr/local/lib/python3.10/dist-packages (from scikit-image->labelme) (2.36.1)\n",
            "Requirement already satisfied: tifffile>=2022.8.12 in /usr/local/lib/python3.10/dist-packages (from scikit-image->labelme) (2024.9.20)\n",
            "Requirement already satisfied: lazy-loader>=0.4 in /usr/local/lib/python3.10/dist-packages (from scikit-image->labelme) (0.4)\n",
            "Requirement already satisfied: MarkupSafe>=2.1.1 in /usr/local/lib/python3.10/dist-packages (from werkzeug>=1.0.1->tensorboard<2.18,>=2.17->tensorflow) (3.0.2)\n",
            "Requirement already satisfied: soupsieve>1.2 in /usr/local/lib/python3.10/dist-packages (from beautifulsoup4->gdown->labelme) (2.6)\n",
            "Collecting humanfriendly>=9.1 (from coloredlogs->onnxruntime!=1.16.0,>=1.14.1->labelme)\n",
            "  Downloading humanfriendly-10.0-py2.py3-none-any.whl.metadata (9.2 kB)\n",
            "Requirement already satisfied: PySocks!=1.5.7,>=1.5.6 in /usr/local/lib/python3.10/dist-packages (from requests[socks]->gdown->labelme) (1.7.1)\n",
            "Requirement already satisfied: markdown-it-py>=2.2.0 in /usr/local/lib/python3.10/dist-packages (from rich->keras>=3.2.0->tensorflow) (3.0.0)\n",
            "Requirement already satisfied: pygments<3.0.0,>=2.13.0 in /usr/local/lib/python3.10/dist-packages (from rich->keras>=3.2.0->tensorflow) (2.18.0)\n",
            "Requirement already satisfied: mpmath<1.4,>=1.1.0 in /usr/local/lib/python3.10/dist-packages (from sympy->onnxruntime!=1.16.0,>=1.14.1->labelme) (1.3.0)\n",
            "Requirement already satisfied: mdurl~=0.1 in /usr/local/lib/python3.10/dist-packages (from markdown-it-py>=2.2.0->rich->keras>=3.2.0->tensorflow) (0.1.2)\n",
            "Downloading imgviz-1.7.6-py3-none-any.whl (7.7 MB)\n",
            "\u001b[2K   \u001b[90m━━━━━━━━━━━━━━━━━━━━━━━━━━━━━━━━━━━━━━━━\u001b[0m \u001b[32m7.7/7.7 MB\u001b[0m \u001b[31m42.4 MB/s\u001b[0m eta \u001b[36m0:00:00\u001b[0m\n",
            "\u001b[?25hDownloading onnxruntime-1.20.1-cp310-cp310-manylinux_2_27_x86_64.manylinux_2_28_x86_64.whl (13.3 MB)\n",
            "\u001b[2K   \u001b[90m━━━━━━━━━━━━━━━━━━━━━━━━━━━━━━━━━━━━━━━━\u001b[0m \u001b[32m13.3/13.3 MB\u001b[0m \u001b[31m60.1 MB/s\u001b[0m eta \u001b[36m0:00:00\u001b[0m\n",
            "\u001b[?25hDownloading PyQt5-5.15.11-cp38-abi3-manylinux_2_17_x86_64.whl (8.2 MB)\n",
            "\u001b[2K   \u001b[90m━━━━━━━━━━━━━━━━━━━━━━━━━━━━━━━━━━━━━━━━\u001b[0m \u001b[32m8.2/8.2 MB\u001b[0m \u001b[31m68.0 MB/s\u001b[0m eta \u001b[36m0:00:00\u001b[0m\n",
            "\u001b[?25hDownloading QtPy-2.4.2-py3-none-any.whl (95 kB)\n",
            "\u001b[2K   \u001b[90m━━━━━━━━━━━━━━━━━━━━━━━━━━━━━━━━━━━━━━━━\u001b[0m \u001b[32m95.2/95.2 kB\u001b[0m \u001b[31m9.6 MB/s\u001b[0m eta \u001b[36m0:00:00\u001b[0m\n",
            "\u001b[?25hDownloading PyQt5_Qt5-5.15.15-py3-none-manylinux2014_x86_64.whl (59.8 MB)\n",
            "\u001b[2K   \u001b[90m━━━━━━━━━━━━━━━━━━━━━━━━━━━━━━━━━━━━━━━━\u001b[0m \u001b[32m59.8/59.8 MB\u001b[0m \u001b[31m10.1 MB/s\u001b[0m eta \u001b[36m0:00:00\u001b[0m\n",
            "\u001b[?25hDownloading PyQt5_sip-12.16.0-cp310-cp310-manylinux_2_5_x86_64.manylinux1_x86_64.whl (270 kB)\n",
            "\u001b[2K   \u001b[90m━━━━━━━━━━━━━━━━━━━━━━━━━━━━━━━━━━━━━━━━\u001b[0m \u001b[32m270.8/270.8 kB\u001b[0m \u001b[31m24.7 MB/s\u001b[0m eta \u001b[36m0:00:00\u001b[0m\n",
            "\u001b[?25hDownloading coloredlogs-15.0.1-py2.py3-none-any.whl (46 kB)\n",
            "\u001b[2K   \u001b[90m━━━━━━━━━━━━━━━━━━━━━━━━━━━━━━━━━━━━━━━━\u001b[0m \u001b[32m46.0/46.0 kB\u001b[0m \u001b[31m4.3 MB/s\u001b[0m eta \u001b[36m0:00:00\u001b[0m\n",
            "\u001b[?25hDownloading humanfriendly-10.0-py2.py3-none-any.whl (86 kB)\n",
            "\u001b[2K   \u001b[90m━━━━━━━━━━━━━━━━━━━━━━━━━━━━━━━━━━━━━━━━\u001b[0m \u001b[32m86.8/86.8 kB\u001b[0m \u001b[31m9.3 MB/s\u001b[0m eta \u001b[36m0:00:00\u001b[0m\n",
            "\u001b[?25hBuilding wheels for collected packages: labelme\n",
            "  Building wheel for labelme (setup.py) ... \u001b[?25l\u001b[?25hdone\n",
            "  Created wheel for labelme: filename=labelme-5.5.0-py3-none-any.whl size=1437463 sha256=b8125effac9486d2ebc0f7a06d99f9ccd183b0496271a89e91fa1b091c0622db\n",
            "  Stored in directory: /root/.cache/pip/wheels/44/3a/5e/487d2768ccb5f2411334ac0f3fa7265c94decca9fd94f64d6b\n",
            "Successfully built labelme\n",
            "Installing collected packages: PyQt5-Qt5, qtpy, PyQt5-sip, humanfriendly, PyQt5, coloredlogs, onnxruntime, imgviz, labelme\n",
            "Successfully installed PyQt5-5.15.11 PyQt5-Qt5-5.15.15 PyQt5-sip-12.16.0 coloredlogs-15.0.1 humanfriendly-10.0 imgviz-1.7.6 labelme-5.5.0 onnxruntime-1.20.1 qtpy-2.4.2\n"
          ]
        }
      ],
      "source": [
        "!pip install labelme tensorflow opencv-python matplotlib albumentations #tensorflow-gpu"
      ]
    },
    {
      "cell_type": "markdown",
      "source": [
        "### 1.2 Collect Images Using OpenCV"
      ],
      "metadata": {
        "id": "eC7oiXmNvMSx"
      }
    },
    {
      "cell_type": "code",
      "source": [
        "import os # deal with file paths\n",
        "import time # time between frames/images\n",
        "import uuid # uniform unique identifier\n",
        "import cv2 # computer vision"
      ],
      "metadata": {
        "id": "SlGR439mvlSu"
      },
      "execution_count": null,
      "outputs": []
    },
    {
      "cell_type": "code",
      "source": [
        "IMAGES_PATH = os.path.join('data', 'images')\n",
        "number_images = 20"
      ],
      "metadata": {
        "id": "nTlFro5s4iZQ"
      },
      "execution_count": null,
      "outputs": []
    },
    {
      "cell_type": "code",
      "source": [
        "cap = cv2.VideoCapture(1)\n",
        "for imgnum in range(number_images):\n",
        "  print('Collecting image {}'.format(imgnum))\n",
        "  ret, frame = cap.read()\n",
        "  imgname = os.path.join(IMAGES_PATH, f'{str(uuid.uuid1())}.jpg')\n",
        "  cv2.imwrite(imgname, frame)\n",
        "  cv2.imshow('frame', frame)\n",
        "  time.sleep(0.5)\n",
        "\n",
        "  if cv2.waitKey(1) & 0xFF == ord('q'):\n",
        "    break\n",
        "\n",
        "cap.release()\n",
        "cv2.destroyAllWindows()"
      ],
      "metadata": {
        "id": "cdc_0a7C47S_"
      },
      "execution_count": null,
      "outputs": []
    },
    {
      "cell_type": "markdown",
      "source": [
        "### 1.3 Annotate Images with LabelMe"
      ],
      "metadata": {
        "id": "A_iT9yJbvMiE"
      }
    },
    {
      "cell_type": "code",
      "source": [
        "!labelme # choose images dir, output dir, save auto, draw boxes"
      ],
      "metadata": {
        "id": "qUPskjs4vkfc"
      },
      "execution_count": null,
      "outputs": []
    },
    {
      "cell_type": "markdown",
      "source": [
        "# 2. Review Dataset and Build Image Loading Function"
      ],
      "metadata": {
        "id": "nk0hCv6X8kI1"
      }
    },
    {
      "cell_type": "markdown",
      "source": [
        "### 2.1 Import TF and Deps"
      ],
      "metadata": {
        "id": "j1LXnNQn_x1J"
      }
    },
    {
      "cell_type": "code",
      "source": [
        "import tensorfor as tf\n",
        "import json\n",
        "import numpy as np\n",
        "import matplotlib.pyplot as plt"
      ],
      "metadata": {
        "id": "rOAm2xcnATBw"
      },
      "execution_count": null,
      "outputs": []
    },
    {
      "cell_type": "markdown",
      "source": [
        "### 2.2 Limit GPU Memory Growth"
      ],
      "metadata": {
        "id": "dLTFlprZ_xxz"
      }
    },
    {
      "cell_type": "code",
      "source": [
        "# Avoid OOM errors by setting GPU Memory Consumption Growth\n",
        "gpus = tf.config.experimental.list_physical_devices('GPU')\n",
        "for gpu in gpus:\n",
        "  tf.config.experimental.set_memory_growth(gpu, True)"
      ],
      "metadata": {
        "id": "z4P_5-5TBGmR"
      },
      "execution_count": null,
      "outputs": []
    },
    {
      "cell_type": "code",
      "source": [
        "tf.config.list_physical_devices('GPU')"
      ],
      "metadata": {
        "id": "kSUTDGD5CB_R"
      },
      "execution_count": null,
      "outputs": []
    },
    {
      "cell_type": "markdown",
      "source": [
        "### 2.3 Load Image Into TF Data Pipeline"
      ],
      "metadata": {
        "id": "ACWVrDh0_xva"
      }
    },
    {
      "cell_type": "code",
      "source": [
        "images = tf.data.Dataset.list_files('data\\\\images\\\\*.jpg', shufle=False)"
      ],
      "metadata": {
        "id": "XlgllcT3CS0u"
      },
      "execution_count": null,
      "outputs": []
    },
    {
      "cell_type": "code",
      "source": [
        "# check if the previous lines work\n",
        "images.as_numpy_iterator().next()"
      ],
      "metadata": {
        "id": "LeZKoj1ACtNZ"
      },
      "execution_count": null,
      "outputs": []
    },
    {
      "cell_type": "code",
      "source": [
        "def load_image(x):\n",
        "  byte_img = tf.io.read_file(x)\n",
        "  img = tf.io.decode_jpeg(byte_img)\n",
        "  return img"
      ],
      "metadata": {
        "id": "SFCQyJvlCtAA"
      },
      "execution_count": null,
      "outputs": []
    },
    {
      "cell_type": "code",
      "source": [
        "images = images.map(load_image)"
      ],
      "metadata": {
        "id": "LvLw04pgCs0S"
      },
      "execution_count": null,
      "outputs": []
    },
    {
      "cell_type": "code",
      "source": [
        "images.as_numpy_iterator().next()"
      ],
      "metadata": {
        "id": "VzxIVk3DDVXN"
      },
      "execution_count": null,
      "outputs": []
    },
    {
      "cell_type": "markdown",
      "source": [
        "### 2.4 View Raw Image with Matplotlib"
      ],
      "metadata": {
        "id": "cVEItpUx_xsY"
      }
    },
    {
      "cell_type": "code",
      "source": [
        "image_generator = images.batch(4).as_numpy_iterator()"
      ],
      "metadata": {
        "id": "caBkCX-tDy-9"
      },
      "execution_count": null,
      "outputs": []
    },
    {
      "cell_type": "code",
      "source": [
        "plot_images = image_generator.next()"
      ],
      "metadata": {
        "id": "YH8COZ_gEEDr"
      },
      "execution_count": null,
      "outputs": []
    },
    {
      "cell_type": "code",
      "source": [
        "fig, ax = plt.subplots(ncols=4, figsize=(20,20))\n",
        "for idx, image in enumerate(plot_images):\n",
        "  ax[idx].imshow(image)\n",
        "plt.show()"
      ],
      "metadata": {
        "id": "zSO9DUmSEgbE"
      },
      "execution_count": null,
      "outputs": []
    },
    {
      "cell_type": "markdown",
      "source": [
        "# 3. Partition Unaugmentaed Data"
      ],
      "metadata": {
        "id": "DZqscFab_xg-"
      }
    },
    {
      "cell_type": "markdown",
      "source": [
        "### 3.1 Manually split data into train, validation and test"
      ],
      "metadata": {
        "id": "V_dtBIHhFtYE"
      }
    },
    {
      "cell_type": "code",
      "source": [
        " # create 3 folders (train, val, test) in each folder create 2 folders (images, labels)\n",
        " # put images inside images folders with ratios (0.7, 0.15, 0.15)"
      ],
      "metadata": {
        "id": "tmIuJoup8jRh"
      },
      "execution_count": null,
      "outputs": []
    },
    {
      "cell_type": "markdown",
      "source": [
        "### 3.2 Move the Matching Labels"
      ],
      "metadata": {
        "id": "PrYVv2CsPB8g"
      }
    },
    {
      "cell_type": "code",
      "source": [
        "for folder in ['train', 'test', 'val']:\n",
        "  for file in os.listdir(os.path.join('data', folder, 'images')):\n",
        "    file_name = file.split('.')[0]+'json'\n",
        "    existing_filepath = os.path.join('data', 'labels', file_name)\n",
        "    if os.path.exists(existing_file_path):\n",
        "      new_filepath = os.path.join('data', folder, 'labels', file_name)\n",
        "      os.replace(existing_filepath, new_filepath)"
      ],
      "metadata": {
        "id": "mpUnQ9qgPFXQ"
      },
      "execution_count": null,
      "outputs": []
    },
    {
      "cell_type": "markdown",
      "source": [
        "# 4. Apply Image Augmentation on Imagesand Labels Using Albumentations"
      ],
      "metadata": {
        "id": "73hSXZwPQHoa"
      }
    },
    {
      "cell_type": "markdown",
      "source": [
        "### 4.1 Setup Albumentations Transform Pipeline"
      ],
      "metadata": {
        "id": "oOoOG_RcQRh1"
      }
    },
    {
      "cell_type": "code",
      "source": [
        "import albumentations as alb"
      ],
      "metadata": {
        "id": "k0ONkaEAQPuP"
      },
      "execution_count": null,
      "outputs": []
    },
    {
      "cell_type": "code",
      "source": [
        "augemtor = alb.Compose([\n",
        "    alb.RandomCrop(wieth=450, height=450),\n",
        "    alb.HorizontalFlip(p=0.5),\n",
        "    alb.RandomBirghtnessContrast(p=0.2),\n",
        "    alb.RandomGamma(p=0.2),\n",
        "    alb.RGBShift(p=0.2),\n",
        "    alb.VerticalFlip(0.5)\n",
        "], bbox_params=alb.BboxParams(format='albumentaitons', label_fields = ['class_labels']))"
      ],
      "metadata": {
        "id": "JUnatue4Qxth"
      },
      "execution_count": null,
      "outputs": []
    },
    {
      "cell_type": "markdown",
      "source": [
        "### 4.2 Load a Test Image and Annotation with OpenCV and JSON"
      ],
      "metadata": {
        "id": "jooF_Ky4Zq2J"
      }
    },
    {
      "cell_type": "code",
      "source": [
        "img = cv2.imread(os.path.join('data', 'train', 'images', 'captured_image_name.jpg'))"
      ],
      "metadata": {
        "id": "QY-BQn4_ZqQh"
      },
      "execution_count": null,
      "outputs": []
    },
    {
      "cell_type": "code",
      "source": [
        "with open(os.path.join('data', 'train', 'labels', 'label_me_name.json'), 'r') as f:\n",
        "  label = json.load(f)"
      ],
      "metadata": {
        "id": "_bPlt3j1aBXJ"
      },
      "execution_count": null,
      "outputs": []
    },
    {
      "cell_type": "markdown",
      "source": [
        "### 4.3 Extract Coordinates and Rescale to Match Image Resolution"
      ],
      "metadata": {
        "id": "jX81X13fa3ru"
      }
    },
    {
      "cell_type": "code",
      "source": [
        "coords = [0, 0, 0, 0]\n",
        "coors[0] = label['shapes'][0]['points'][0][0]\n",
        "coors[1] = label['shapes'][0]['points'][0][1]\n",
        "coors[2] = label['shapes'][0]['points'][1][0]\n",
        "coors[3] = label['shapes'][0]['points'][1][1]"
      ],
      "metadata": {
        "id": "Dn1w9Njfa231"
      },
      "execution_count": null,
      "outputs": []
    },
    {
      "cell_type": "code",
      "source": [
        "coords"
      ],
      "metadata": {
        "id": "TpNuj-7jb3Fm"
      },
      "execution_count": null,
      "outputs": []
    },
    {
      "cell_type": "code",
      "source": [
        "coords = list(np.divide(coords, [640, 480, 640, 480])) # divide by image dimensions"
      ],
      "metadata": {
        "id": "Ash-xbOFb5_F"
      },
      "execution_count": null,
      "outputs": []
    },
    {
      "cell_type": "code",
      "source": [
        "coords"
      ],
      "metadata": {
        "id": "YzJNDuqtcG20"
      },
      "execution_count": null,
      "outputs": []
    },
    {
      "cell_type": "markdown",
      "source": [
        "### 4.4 Apply Augmentaions and View Results"
      ],
      "metadata": {
        "id": "CeNb_h6lcM0E"
      }
    },
    {
      "cell_type": "code",
      "source": [
        "augmented = augmentor(image=img, bbox=[coords], class_labels=['face'])"
      ],
      "metadata": {
        "id": "C04t-UzwcRKl"
      },
      "execution_count": null,
      "outputs": []
    },
    {
      "cell_type": "code",
      "source": [
        "cv2.rectange(augmented['image'],\n",
        "             tuple(np.multiply(augmented['bboxes'][0][:2], [450,450]).astype(int)),\n",
        "             tuple(np.multiply(augmented['bboxes'][0][2:], [450,450]).astype(int)),\n",
        "             (255, 0, 0), 2)\n",
        "\n",
        "plt.imshow(augmented['images'])"
      ],
      "metadata": {
        "id": "0KkE7uEecb9_"
      },
      "execution_count": null,
      "outputs": []
    },
    {
      "cell_type": "markdown",
      "source": [
        "# 5. Build and Run Augmentation Pipeline"
      ],
      "metadata": {
        "id": "NMvQvvokdw5G"
      }
    },
    {
      "cell_type": "markdown",
      "source": [
        "### 5.1 Run Augmentation Pipeline"
      ],
      "metadata": {
        "id": "R9aez2oMeXqi"
      }
    },
    {
      "cell_type": "code",
      "source": [
        "for partition in ['train', 'test', 'val']:\n",
        "  for image in os.listdir(os.path.join('data', partition, 'images')):\n",
        "    img = cv2.imread(os.path.join('data', partition, 'images', image))\n",
        "\n",
        "    coords = [0, 0, 0.00001, 0.00001]\n",
        "    label_path = os.path.join('data', partition, 'labels', f'{image.split('.'[0])}.json')\n",
        "    if of.path.exists(label_path):\n",
        "      with open(label, 'r') as f:\n",
        "        label = json.load(f)\n",
        "\n",
        "      coors[0] = label['shapes'][0]['points'][0][0]\n",
        "      coors[1] = label['shapes'][0]['points'][0][1]\n",
        "      coors[2] = label['shapes'][0]['points'][1][0]\n",
        "      coors[3] = label['shapes'][0]['points'][1][1]\n",
        "\n",
        "    try:\n",
        "      for x in range(60):\n",
        "        augmented = augmentor(image=img, bboxes=[coords], class_labels=['face'])\n",
        "        cv2.imwrite(os.path.join('aug_data', partition, 'images', f'{image.split('.')[0]}.{x}.jpg'), augmented['image'])\n",
        "\n",
        "        annotation = {}\n",
        "        annotation['image'] = image\n",
        "\n",
        "        if os.path.exists(label_path):\n",
        "          if len(augmented['bboxes']) == 0:\n",
        "            annotation['bbox'] = [0,0,0,0]\n",
        "            annotation['class'] = 0\n",
        "          else:\n",
        "            annotation['bbox'] = augmented['bboxes'][0]\n",
        "            annotation['class'] = 1\n",
        "        else:\n",
        "          annotations['bbox'] = [0,0,0,0]\n",
        "          annotation['class'] = 0\n",
        "\n",
        "        with open(os.path.join('aug_data', partition, 'labels', f'{image.split('.')[0]}.{x}.json') 'w') as f:\n",
        "          json.dump(annotation, f)\n",
        "\n",
        "      except Exception as e:\n",
        "        print(e)"
      ],
      "metadata": {
        "id": "jPV3-A76dwDy"
      },
      "execution_count": null,
      "outputs": []
    },
    {
      "cell_type": "markdown",
      "source": [
        "### 5.2 Load Augmented Images to Tensorflow Dataset"
      ],
      "metadata": {
        "id": "a7oa08rQtsVy"
      }
    },
    {
      "cell_type": "code",
      "source": [
        "train_images = tf.data.Dataset.list_files('aug_data\\\\train\\\\images\\\\*.jpg', suffle=False)\n",
        "train_images = train_images.map(load_image)\n",
        "train_images = train_images.map(lambda x: tf.image.resize(x, (120,120)))\n",
        "train_images = train_images.map(lambda x: x/255)"
      ],
      "metadata": {
        "id": "hADHpR7-tRop"
      },
      "execution_count": null,
      "outputs": []
    },
    {
      "cell_type": "code",
      "source": [
        "test_images = tf.data.Dataset.list_files('aug_data\\\\test\\\\images\\\\*.jpg', suffle=False)\n",
        "test_images = train_images.map(load_image)\n",
        "test_images = train_images.map(lambda x: tf.image.resize(x, (120,120)))\n",
        "test_images = train_images.map(lambda x: x/255)"
      ],
      "metadata": {
        "id": "X_4VKTBegVP1"
      },
      "execution_count": null,
      "outputs": []
    },
    {
      "cell_type": "code",
      "source": [
        "val_images = tf.data.Dataset.list_files('aug_data\\\\val\\\\images\\\\*.jpg', suffle=False)\n",
        "val_images = train_images.map(load_image)\n",
        "val_images = train_images.map(lambda x: tf.image.resize(x, (120,120)))\n",
        "val_images = train_images.map(lambda x: x/255)"
      ],
      "metadata": {
        "id": "LhAd5lV-gkAR"
      },
      "execution_count": null,
      "outputs": []
    },
    {
      "cell_type": "markdown",
      "source": [
        "# 6. Prepare Labels"
      ],
      "metadata": {
        "id": "SVyn3kolgvX3"
      }
    },
    {
      "cell_type": "markdown",
      "source": [
        "### 6.1 Build Label Loading Function"
      ],
      "metadata": {
        "id": "7X7Ytqjlg0lj"
      }
    },
    {
      "cell_type": "code",
      "source": [
        "def load_labels(label_path):\n",
        "  with open(label_path.numpy(), 'r', encoding = 'utf-8') as f:\n",
        "    label = json.load(f)\n",
        "  return [label['class']], label['bbox']\n"
      ],
      "metadata": {
        "id": "XYFMHr6Egy4d"
      },
      "execution_count": null,
      "outputs": []
    },
    {
      "cell_type": "markdown",
      "source": [
        "### 6.2 Load Labels to Tensorflow Dataset"
      ],
      "metadata": {
        "id": "7qL68VeDhwMa"
      }
    },
    {
      "cell_type": "code",
      "source": [
        "train_labels = tf.data.Dataset.list_files('aug_data\\\\train\\\\labels\\\\*.json', suffle=False)\n",
        "train_labels = train_labels.map(lambda x: tf.py_function(load_labels, [x], [tf.unit8, tf.float16]))"
      ],
      "metadata": {
        "id": "zAPOF7ukh1R7"
      },
      "execution_count": null,
      "outputs": []
    },
    {
      "cell_type": "code",
      "source": [
        "test_labels = tf.data.Dataset.list_files('aug_data\\\\test\\\\labels\\\\*.json', suffle=False)\n",
        "test_labels = train_labels.map(lambda x: tf.py_function(load_labels, [x], [tf.unit8, tf.float16]))"
      ],
      "metadata": {
        "id": "8FKPQ6CQlr9h"
      },
      "execution_count": null,
      "outputs": []
    },
    {
      "cell_type": "code",
      "source": [
        "val_labels = tf.data.Dataset.list_files('aug_data\\\\val\\\\labels\\\\*.json', suffle=False)\n",
        "val_labels = train_labels.map(lambda x: tf.py_function(load_labels, [x], [tf.unit8, tf.float16]))"
      ],
      "metadata": {
        "id": "_4dD3Ad5lsI2"
      },
      "execution_count": null,
      "outputs": []
    },
    {
      "cell_type": "markdown",
      "source": [
        "# 7. Combine Label and Image Sample"
      ],
      "metadata": {
        "id": "DwqC0feMl2G2"
      }
    },
    {
      "cell_type": "markdown",
      "source": [
        "### 7.1 Check Partition Lengths"
      ],
      "metadata": {
        "id": "RGPIzPUpmL4H"
      }
    },
    {
      "cell_type": "code",
      "source": [
        "len(train_images), len(train_labels), len(test_images), len(test_labels), len(val_images), len(val_labels)"
      ],
      "metadata": {
        "id": "AkFBJabXmTaV"
      },
      "execution_count": null,
      "outputs": []
    },
    {
      "cell_type": "markdown",
      "source": [
        "### 7.2 Create Final Dataset (Images / Labels)"
      ],
      "metadata": {
        "id": "dIh9G2HTmNSo"
      }
    },
    {
      "cell_type": "code",
      "source": [
        "train = tf.data.Dataset.zip((train_images, train_labels))\n",
        "train = train.shuffle(5000) # bigger than the size above\n",
        "train = train.batch(8)\n",
        "train = train.prefetch(4)"
      ],
      "metadata": {
        "id": "yKShR1bnmkTc"
      },
      "execution_count": null,
      "outputs": []
    },
    {
      "cell_type": "code",
      "source": [
        "test = tf.data.Dataset.zip((test_images, test_labels))\n",
        "test = test.shuffle(1300)\n",
        "test = test.batch(8)\n",
        "test = test.prefetch(4)"
      ],
      "metadata": {
        "id": "P3kBczmjm9Bp"
      },
      "execution_count": null,
      "outputs": []
    },
    {
      "cell_type": "code",
      "source": [
        "val = tf.data.Dataset.zip((val_images, train_labels))\n",
        "val = val.shuffle(1000)\n",
        "val = val.batch(8)\n",
        "val = val.prefetch(4)"
      ],
      "metadata": {
        "id": "f--13Dppm935"
      },
      "execution_count": null,
      "outputs": []
    },
    {
      "cell_type": "markdown",
      "source": [
        "### 7.3 View Images and Annotations"
      ],
      "metadata": {
        "id": "tYosM7UxmL05"
      }
    },
    {
      "cell_type": "code",
      "source": [
        " data_samples = train.as_numpy_iterator()"
      ],
      "metadata": {
        "id": "yRTqrAJqloMN"
      },
      "execution_count": null,
      "outputs": []
    },
    {
      "cell_type": "code",
      "source": [
        "res = data_samples.next()"
      ],
      "metadata": {
        "id": "qRZT-mtinuJV"
      },
      "execution_count": null,
      "outputs": []
    },
    {
      "cell_type": "code",
      "source": [
        "fig, ax = plt.subplots(ncols=4, figsize=(20,20))\n",
        "for idx in range(4):\n",
        "  sample_image = res[0][idx]\n",
        "  sample_coords = res[1][1][idx]\n",
        "\n",
        "cv2.rectangle(sample_image,\n",
        "              tuple(np.multiply(sample_coords[:2], [120,120]).astype(int)),\n",
        "              tuple(np.multiply(sample_coords[2:], [120,120]).astype(int)),\n",
        "              (255,0,0), 2)\n",
        "\n",
        "  ax[idx].imshow(sample_image)"
      ],
      "metadata": {
        "id": "6gWbovdrntw5"
      },
      "execution_count": null,
      "outputs": []
    },
    {
      "cell_type": "markdown",
      "source": [
        "# 8. Build Deep Learning Using the Funcitonal API"
      ],
      "metadata": {
        "id": "y6CW-cr7phLe"
      }
    },
    {
      "cell_type": "markdown",
      "source": [
        "### 8.1 Import Layers and Base Network"
      ],
      "metadata": {
        "id": "wMh627NIphCJ"
      }
    },
    {
      "cell_type": "code",
      "source": [
        "from tensorflow.keras.models import Model\n",
        "from tensorflow.keras.layers import Input, Conv2D, Dense, GlobalMaxPooling2D\n",
        "from tensorflow.keras.applications import VGG16"
      ],
      "metadata": {
        "id": "HWUBF5dyzWvZ"
      },
      "execution_count": null,
      "outputs": []
    },
    {
      "cell_type": "markdown",
      "source": [
        "### 8.2 Download VGG16"
      ],
      "metadata": {
        "id": "Zn3ojB4wpg42"
      }
    },
    {
      "cell_type": "code",
      "source": [
        "vgg = VGG16(include_top=False)"
      ],
      "metadata": {
        "id": "YOrPh4Vy0W9Q"
      },
      "execution_count": null,
      "outputs": []
    },
    {
      "cell_type": "code",
      "source": [
        "vgg.summary()"
      ],
      "metadata": {
        "id": "aRwEGz3S0ryt"
      },
      "execution_count": null,
      "outputs": []
    },
    {
      "cell_type": "markdown",
      "source": [
        "### 8.3 Build instance of Network"
      ],
      "metadata": {
        "id": "RikTykZZpgut"
      }
    },
    {
      "cell_type": "code",
      "source": [
        "def build_model():\n",
        "  input_layer = Input(shape=(120,120,3))\n",
        "\n",
        "  vgg = VGG16(include_top=False)(input_layer)\n",
        "\n",
        "  f1 = GlobalMaxPooling2D()(vgg)\n",
        "  class1 = Dense(2048, activation='relu')(f1)\n",
        "  class2 = Dense(1, activation='sigmoid')(class1)\n",
        "\n",
        "  f2 = GlobalMaxPooling2D()(vgg)\n",
        "  regress1 = Dense(2048, activation='relu')(f2)\n",
        "  regress2 = Dense(1, activation='sigmoid')(regress1)\n",
        "\n",
        "  facetracker = Model(inputs=input_layer, outputs[class2, regress2])\n",
        "\n",
        "  return facetracker"
      ],
      "metadata": {
        "id": "aB5dJzDI1eQN"
      },
      "execution_count": null,
      "outputs": []
    },
    {
      "cell_type": "markdown",
      "source": [
        "### 8.4 Test out Neural Network"
      ],
      "metadata": {
        "id": "PCXnW4_4pyOi"
      }
    },
    {
      "cell_type": "code",
      "source": [
        "facetracker = build_model()"
      ],
      "metadata": {
        "id": "0qgZF7_L2jiu"
      },
      "execution_count": null,
      "outputs": []
    },
    {
      "cell_type": "code",
      "source": [
        "facetracker.summary()"
      ],
      "metadata": {
        "id": "5aPWzEDfnto3"
      },
      "execution_count": null,
      "outputs": []
    },
    {
      "cell_type": "code",
      "source": [
        "X, y = train.as_numpy_iterator().next()"
      ],
      "metadata": {
        "id": "29FpSSkWDBvJ"
      },
      "execution_count": null,
      "outputs": []
    },
    {
      "cell_type": "code",
      "source": [
        "X.shape"
      ],
      "metadata": {
        "id": "Y53hklDXDg44"
      },
      "execution_count": null,
      "outputs": []
    },
    {
      "cell_type": "code",
      "source": [
        "classes, coords = facetracker.predict(X)"
      ],
      "metadata": {
        "id": "I3m8zDLBDgmw"
      },
      "execution_count": null,
      "outputs": []
    },
    {
      "cell_type": "code",
      "source": [
        "classes, coords"
      ],
      "metadata": {
        "id": "otm3a_NqDgky"
      },
      "execution_count": null,
      "outputs": []
    },
    {
      "cell_type": "markdown",
      "source": [
        "# 9. Define Loss and Optimizers"
      ],
      "metadata": {
        "id": "6HdLi8rUDyec"
      }
    },
    {
      "cell_type": "markdown",
      "source": [
        "### 9.1 Define Optimizer and LR"
      ],
      "metadata": {
        "id": "ZnEEn-h_D_0G"
      }
    },
    {
      "cell_type": "code",
      "source": [
        "batch_per_epoch = len(train) #690\n",
        "lr_decay = (1./0.75 - 1)/batch_per_epoch"
      ],
      "metadata": {
        "id": "Ts1P6_fmEGR5"
      },
      "execution_count": null,
      "outputs": []
    },
    {
      "cell_type": "code",
      "source": [
        "opt = tf.keras.optimizers.Adam(learning_rate=0.00001, decay=lr_decay)"
      ],
      "metadata": {
        "id": "4jRDUh-DEYU0"
      },
      "execution_count": null,
      "outputs": []
    },
    {
      "cell_type": "markdown",
      "source": [
        "### 9.2 Create Localization Loss and Classification Loss"
      ],
      "metadata": {
        "id": "M6KtvrpnD_w0"
      }
    },
    {
      "cell_type": "code",
      "source": [
        "def localization_loss(y_true, yhat):\n",
        "  delta_coord = tf.reduce_sum(tf.square(y_true[:,:2] - yhat[:,:2]))\n",
        "\n",
        "  h_true = y_true[:,3] - y_true[:,1]\n",
        "  w_true = y_ture[:,2] - y_true[:,0]\n",
        "\n",
        "  h_pred = yhat[:,3] - yhat[:,1]\n",
        "  w_pred = yhat[:,2] - yhat[:,0]\n",
        "\n",
        "  delta_size = tf.reduce_sum(tf.square(w_true - w_pred) + tf.square(h_ture, h_pred))\n",
        "\n",
        "  return delta_coord + delta_size"
      ],
      "metadata": {
        "id": "sJpll8LjEh_j"
      },
      "execution_count": null,
      "outputs": []
    },
    {
      "cell_type": "code",
      "source": [
        "classloss = tf.keras.losses.BinaryCrossentropy()\n",
        "regressloss = localization_loss"
      ],
      "metadata": {
        "id": "Y2G_Us1vErra"
      },
      "execution_count": null,
      "outputs": []
    },
    {
      "cell_type": "markdown",
      "source": [
        "### 9.3 Teset out Loss Meertics"
      ],
      "metadata": {
        "id": "XI8klcrdD_Q2"
      }
    },
    {
      "cell_type": "code",
      "source": [
        "localizaiton_loss(y[1], coords) # to get the value add .numpy() at the end"
      ],
      "metadata": {
        "id": "Fp1wct5ODggr"
      },
      "execution_count": null,
      "outputs": []
    },
    {
      "cell_type": "code",
      "source": [
        "classloss(y[0], classes)"
      ],
      "metadata": {
        "id": "e1s8hL_nDgct"
      },
      "execution_count": null,
      "outputs": []
    },
    {
      "cell_type": "code",
      "source": [
        "regressloss(y[1], coords)"
      ],
      "metadata": {
        "id": "e6ySIAQIQRno"
      },
      "execution_count": null,
      "outputs": []
    },
    {
      "cell_type": "markdown",
      "source": [
        "# 10. Train Neural Network"
      ],
      "metadata": {
        "id": "NVj2cvVyQQja"
      }
    },
    {
      "cell_type": "markdown",
      "source": [
        "### 10.1 Create Custom Model Class"
      ],
      "metadata": {
        "id": "jOnvfTzKQs4x"
      }
    },
    {
      "cell_type": "code",
      "source": [
        "class FaceTracker(Model):\n",
        "  def __init__(self, eyetracker, **kwargs):\n",
        "    super().__init__(**kwargs)\n",
        "    self.model = eyetracker\n",
        "\n",
        "  def compile(self, opt, classloss, localizationloss, **kwargs):\n",
        "    super().compile(**kwargs)\n",
        "    self.closs = classloss\n",
        "    self.lloss = localizationloss\n",
        "    self.opt = opt\n",
        "\n",
        "  def train_step(self, batch, **kwargs):\n",
        "    X, y = batch\n",
        "\n",
        "    with tf.GradientTape() as tape:\n",
        "      classes, coords = self.model(X, training=True)\n",
        "\n",
        "      batch_classloss = self.closs(y[0], classes)\n",
        "      batch_localizationloss = self.lloss(tf.cast(y[1], tf.float32), coords)\n",
        "\n",
        "      total_loss = batch_localizationloss + 0.5 * batch_classloss\n",
        "\n",
        "      gard = tape.gradient(total_loss, self.model.trainable_variables)\n",
        "\n",
        "    opt.apply_gradients(zip(gard, self.model.trainable_variables))\n",
        "\n",
        "    return {\"total_loss\": total_loss, \"class_loss\": batch_classloss, \"regress_loss\": batch_localizationloss}\n",
        "\n",
        "  def test_step(self, batch, **kwargs):\n",
        "    X, y = batch\n",
        "\n",
        "    classes, coords = self.model(X, training=False)\n",
        "\n",
        "    batch_classloss = self.closs(y[0], classes)\n",
        "    batch_localizationloss = self.lloss(tf.cast(y[1], tf.float32), coords)\n",
        "    total_loss = batch_localizationloss + 0.5 * batch_classloss\n",
        "\n",
        "    return {\"total_loss\": total_loss, \"class_loss\": batch_classloss, \"regress_loss\": batch_localizationloss}\n",
        "\n",
        "  def call(self, X, **kwargs): # to implement .predict()\n",
        "    return self.model(X, **kwargs)"
      ],
      "metadata": {
        "id": "mwag7z1oQrxe"
      },
      "execution_count": null,
      "outputs": []
    },
    {
      "cell_type": "code",
      "source": [
        "model = FaceTracker(facetracker)"
      ],
      "metadata": {
        "id": "l0wSktcrYd1H"
      },
      "execution_count": null,
      "outputs": []
    },
    {
      "cell_type": "code",
      "source": [
        "model.compile(opt, classloss, regressloss)"
      ],
      "metadata": {
        "id": "_x0rNTusYdlc"
      },
      "execution_count": null,
      "outputs": []
    },
    {
      "cell_type": "markdown",
      "source": [
        "### 10.2 Train"
      ],
      "metadata": {
        "id": "aF5NK64CYc3z"
      }
    },
    {
      "cell_type": "code",
      "source": [
        "logdir = 'logs'"
      ],
      "metadata": {
        "id": "Ihu1nuV3Y29A"
      },
      "execution_count": null,
      "outputs": []
    },
    {
      "cell_type": "code",
      "source": [
        "tensorboard_callback = tf.keras.callbacks.TensorBoard(log_dir=logdir)"
      ],
      "metadata": {
        "id": "6yEem293Y7ZH"
      },
      "execution_count": null,
      "outputs": []
    },
    {
      "cell_type": "code",
      "source": [
        "hist = model.fit(train.take(100), epoch=40, validation_data=val, callbacks=[tensorboard_callbac])"
      ],
      "metadata": {
        "id": "pnlMjSacY7Vv"
      },
      "execution_count": null,
      "outputs": []
    },
    {
      "cell_type": "markdown",
      "source": [
        "### 10.3 Plot Performance"
      ],
      "metadata": {
        "id": "A1SmRV7WZdQ_"
      }
    },
    {
      "cell_type": "code",
      "source": [
        "hist.history"
      ],
      "metadata": {
        "id": "hh7dluXGZd1l"
      },
      "execution_count": null,
      "outputs": []
    },
    {
      "cell_type": "code",
      "source": [
        "fig, ax = plt.subplots(ncols=3, figsize=(20,5))\n",
        "\n",
        "ax[0].plot(hist.history['total_loss'], color='teal', label='loss')\n",
        "ax[0].plot(hist.history['val_total_loss'], color='orange', label='val_loss')\n",
        "ax[0].title.set_text('Loss')\n",
        "ax[0].legend()\n",
        "\n",
        "ax[1].plot(hist.history['class_loss'], color='teal', label='class loss')\n",
        "ax[1].plot(hist.history['val_class_loss'], color='orange', label='val class loss')\n",
        "ax[1].title.set_text('Classification Loss')\n",
        "ax[1].legend()\n",
        "\n",
        "ax[2].plot(hist.history['regress_loss'], color='teal', label='regress loss')\n",
        "ax[2].plot(hist.history['val_regress_loss'], color='orange', label='val regress loss')\n",
        "ax[2].title.set_text('Regression Loss')\n",
        "ax[2].legend()\n",
        "\n",
        "plt.show()"
      ],
      "metadata": {
        "id": "2zXcArYGZeXM"
      },
      "execution_count": null,
      "outputs": []
    },
    {
      "cell_type": "markdown",
      "source": [
        "# 11. Make Predictions"
      ],
      "metadata": {
        "id": "3nnG6blNiSrO"
      }
    },
    {
      "cell_type": "markdown",
      "source": [
        "### 11.1 Make Predictions on Test Set"
      ],
      "metadata": {
        "id": "NGbtY7RLilxj"
      }
    },
    {
      "cell_type": "code",
      "source": [
        "test_data = test.as_numpy_iterator()"
      ],
      "metadata": {
        "id": "omp1Lzsjisx5"
      },
      "execution_count": null,
      "outputs": []
    },
    {
      "cell_type": "code",
      "source": [
        "test_sample = test_data.next()"
      ],
      "metadata": {
        "id": "P6wNIYdUisjA"
      },
      "execution_count": null,
      "outputs": []
    },
    {
      "cell_type": "code",
      "source": [
        "yhat = facetracker.predict(test_sample[0])"
      ],
      "metadata": {
        "id": "ljuJrU8Lisfw"
      },
      "execution_count": null,
      "outputs": []
    },
    {
      "cell_type": "code",
      "source": [
        "fig, ax = plt.subplots(ncols=4, figsize=(20,20))\n",
        "for idx in range(4):\n",
        "  smaple_image = test_sample[0][idx]\n",
        "  smaple_coords = yhat[1][idx]\n",
        "\n",
        "  if yhat[0][idx] > 0.5:\n",
        "    cv2.rectangle(sample_image,\n",
        "    tuple(np.multiply(sample_coords[:2], [120,120]).astype(int)),\n",
        "    tuple(np.multiply(sample_coords[2:], [120,120]).astype(int)),\n",
        "    (255,0,0), 2)\n",
        "\n",
        "  ax[idx].imshow(sample_image)"
      ],
      "metadata": {
        "id": "EIGcU1gTir30"
      },
      "execution_count": null,
      "outputs": []
    },
    {
      "cell_type": "markdown",
      "source": [
        "### 11.2 Save the Model"
      ],
      "metadata": {
        "id": "tPpRrnNRiluT"
      }
    },
    {
      "cell_type": "code",
      "source": [
        "from tensorflow.keras.models import load_model"
      ],
      "metadata": {
        "id": "EUSyyce6iwjI"
      },
      "execution_count": null,
      "outputs": []
    },
    {
      "cell_type": "code",
      "source": [
        "facetracer.save('facetracker.h5')"
      ],
      "metadata": {
        "id": "kKWQwK1jMoBG"
      },
      "execution_count": null,
      "outputs": []
    },
    {
      "cell_type": "code",
      "source": [
        "facetracker = load_model('facetracker.h5')"
      ],
      "metadata": {
        "id": "w8zxWPRBiwYZ"
      },
      "execution_count": null,
      "outputs": []
    },
    {
      "cell_type": "markdown",
      "source": [
        "### 11.3 Real Time Detection"
      ],
      "metadata": {
        "id": "w2oTbeB6ilrf"
      }
    },
    {
      "cell_type": "code",
      "source": [
        "cap = cv2.VideoCapture(0)\n",
        "\n",
        "while cap.isOpened():\n",
        "  _ , frame = cap.read()\n",
        "  frame = frame[50:500, 50:500,:]\n",
        "\n",
        "  rgb = cv2.cvtColor(frame, cv2.COLOR_BGR2RGB)\n",
        "  resized = tf.image.resize(rgb, (120,120))\n",
        "\n",
        "  yhat = facetracker.predict(np.expand_dims(resized/255,0))\n",
        "  sample_coords = yhat[1][0]\n",
        "\n",
        "  if yhat[0] > 0.5:\n",
        "    cv2.rectangle(frame,\n",
        "                  tuple(np.multiply(sample_coords[:2], [450,450]).astype(int)),\n",
        "                  tuple(np.multiply(sample_coords[2:], [450,450]).astype(int)),\n",
        "                  (255,0,0), 2)\n",
        "    cv2.rectangle(frame,\n",
        "                  tuple(np.add(np.multiply(sample_coords[:2], [450,450]).astype(int), [0, -30]))\n",
        "                  tuple(np.add(np.multiply(sample_coords[2:], [450,450]).astype(int), [80, 0])),\n",
        "                  (255,0,0), 2)\n",
        "\n",
        "    cv2.putText(frame, 'face', tuple(np.add(np.multiply(sample_coords[:2], [450,450]).astype(int), [0, -5])),\n",
        "                cv2.FONT_HERSHEY_SIMPLEX, 1, (255,255,255), 2, cv2.LINE_AA)\n",
        "\n",
        "    cv2.imshow('EyeTrack', frame)\n",
        "\n",
        "    if cv2.waitKey(1) & 0xFF == ord('q'):\n",
        "      break\n",
        "\n",
        "cap.release()\n",
        "cv2.destroyAllWindows()\n"
      ],
      "metadata": {
        "id": "CMgaLRReiwU8"
      },
      "execution_count": null,
      "outputs": []
    },
    {
      "cell_type": "code",
      "source": [],
      "metadata": {
        "id": "rOSPo_uliUZ_"
      },
      "execution_count": null,
      "outputs": []
    }
  ]
}